{
  "nbformat": 4,
  "nbformat_minor": 0,
  "metadata": {
    "colab": {
      "name": "0529_a107260103",
      "provenance": []
    },
    "kernelspec": {
      "name": "python3",
      "display_name": "Python 3"
    }
  },
  "cells": [
    {
      "cell_type": "code",
      "metadata": {
        "id": "MWBAYZlPbto0",
        "colab_type": "code",
        "colab": {
          "base_uri": "https://localhost:8080/",
          "height": 105
        },
        "outputId": "eff88b2c-af9b-41e9-8b46-a765cff1058a"
      },
      "source": [
        "import pandas as pd\n",
        "\n",
        "covid19_ts = pd.read_csv(\"https://raw.githubusercontent.com/CSSEGISandData/COVID-19/master/csse_covid_19_data/csse_covid_19_time_series/time_series_covid19_confirmed_global.csv\")\n",
        "covid19_ts_tw = covid19_ts[covid19_ts['Country/Region'] == 'Taiwan*']\n",
        "cumulative_confirmed_tw = list(covid19_ts_tw.loc[:,'1/22/20':'5/27/20'].values.ravel())\n",
        "dates = list(covid19_ts_tw.loc[:, '1/22/20':'5/27/20'].columns)\n",
        "print(dates)\n",
        "print(len(dates))\n",
        "print(cumulative_confirmed_tw)\n",
        "print(len(cumulative_confirmed_tw))\n",
        "# 在這 127 天中，哪些\"日期\"是零新增確診?"
      ],
      "execution_count": 1,
      "outputs": [
        {
          "output_type": "stream",
          "text": [
            "['1/22/20', '1/23/20', '1/24/20', '1/25/20', '1/26/20', '1/27/20', '1/28/20', '1/29/20', '1/30/20', '1/31/20', '2/1/20', '2/2/20', '2/3/20', '2/4/20', '2/5/20', '2/6/20', '2/7/20', '2/8/20', '2/9/20', '2/10/20', '2/11/20', '2/12/20', '2/13/20', '2/14/20', '2/15/20', '2/16/20', '2/17/20', '2/18/20', '2/19/20', '2/20/20', '2/21/20', '2/22/20', '2/23/20', '2/24/20', '2/25/20', '2/26/20', '2/27/20', '2/28/20', '2/29/20', '3/1/20', '3/2/20', '3/3/20', '3/4/20', '3/5/20', '3/6/20', '3/7/20', '3/8/20', '3/9/20', '3/10/20', '3/11/20', '3/12/20', '3/13/20', '3/14/20', '3/15/20', '3/16/20', '3/17/20', '3/18/20', '3/19/20', '3/20/20', '3/21/20', '3/22/20', '3/23/20', '3/24/20', '3/25/20', '3/26/20', '3/27/20', '3/28/20', '3/29/20', '3/30/20', '3/31/20', '4/1/20', '4/2/20', '4/3/20', '4/4/20', '4/5/20', '4/6/20', '4/7/20', '4/8/20', '4/9/20', '4/10/20', '4/11/20', '4/12/20', '4/13/20', '4/14/20', '4/15/20', '4/16/20', '4/17/20', '4/18/20', '4/19/20', '4/20/20', '4/21/20', '4/22/20', '4/23/20', '4/24/20', '4/25/20', '4/26/20', '4/27/20', '4/28/20', '4/29/20', '4/30/20', '5/1/20', '5/2/20', '5/3/20', '5/4/20', '5/5/20', '5/6/20', '5/7/20', '5/8/20', '5/9/20', '5/10/20', '5/11/20', '5/12/20', '5/13/20', '5/14/20', '5/15/20', '5/16/20', '5/17/20', '5/18/20', '5/19/20', '5/20/20', '5/21/20', '5/22/20', '5/23/20', '5/24/20', '5/25/20', '5/26/20', '5/27/20']\n",
            "127\n",
            "[1, 1, 3, 3, 4, 5, 8, 8, 9, 10, 10, 10, 10, 11, 11, 16, 16, 17, 18, 18, 18, 18, 18, 18, 18, 20, 22, 22, 23, 24, 26, 26, 28, 30, 31, 32, 32, 34, 39, 40, 41, 42, 42, 44, 45, 45, 45, 45, 47, 48, 49, 50, 53, 59, 67, 77, 100, 108, 135, 153, 169, 195, 215, 235, 252, 267, 283, 298, 306, 322, 329, 339, 348, 355, 363, 373, 376, 379, 380, 382, 385, 388, 393, 393, 395, 395, 395, 398, 420, 422, 425, 426, 427, 428, 429, 429, 429, 429, 429, 429, 429, 432, 436, 438, 438, 439, 440, 440, 440, 440, 440, 440, 440, 440, 440, 440, 440, 440, 440, 440, 440, 441, 441, 441, 441, 441, 441]\n",
            "127\n"
          ],
          "name": "stdout"
        }
      ]
    },
    {
      "cell_type": "code",
      "metadata": {
        "id": "G82Xf2nGeDim",
        "colab_type": "code",
        "colab": {
          "base_uri": "https://localhost:8080/",
          "height": 71
        },
        "outputId": "e09c32c9-e23f-4b35-855e-65a04318c240"
      },
      "source": [
        "cumulative_confirmed_tw_lag = [cumulative_confirmed_tw[i] for i in range(len(cumulative_confirmed_tw)-1)]\n",
        "cumulative_confirmed_tw_lag.insert(0, 0)\n",
        "print(cumulative_confirmed_tw_lag)\n",
        "print(len(cumulative_confirmed_tw_lag))"
      ],
      "execution_count": 2,
      "outputs": [
        {
          "output_type": "stream",
          "text": [
            "[0, 1, 1, 3, 3, 4, 5, 8, 8, 9, 10, 10, 10, 10, 11, 11, 16, 16, 17, 18, 18, 18, 18, 18, 18, 18, 20, 22, 22, 23, 24, 26, 26, 28, 30, 31, 32, 32, 34, 39, 40, 41, 42, 42, 44, 45, 45, 45, 45, 47, 48, 49, 50, 53, 59, 67, 77, 100, 108, 135, 153, 169, 195, 215, 235, 252, 267, 283, 298, 306, 322, 329, 339, 348, 355, 363, 373, 376, 379, 380, 382, 385, 388, 393, 393, 395, 395, 395, 398, 420, 422, 425, 426, 427, 428, 429, 429, 429, 429, 429, 429, 429, 432, 436, 438, 438, 439, 440, 440, 440, 440, 440, 440, 440, 440, 440, 440, 440, 440, 440, 440, 440, 441, 441, 441, 441, 441]\n",
            "127\n"
          ],
          "name": "stdout"
        }
      ]
    },
    {
      "cell_type": "code",
      "metadata": {
        "id": "ZrO61OODeDpG",
        "colab_type": "code",
        "colab": {
          "base_uri": "https://localhost:8080/",
          "height": 71
        },
        "outputId": "c41f7422-5acd-45d0-a646-a787e7e35d9a"
      },
      "source": [
        "daily_increase_tw = []\n",
        "for i, j in zip(cumulative_confirmed_tw, cumulative_confirmed_tw_lag):\n",
        "    daily_increase = i - j\n",
        "    daily_increase_tw.append(daily_increase)\n",
        "print(daily_increase_tw)\n",
        "print(len(daily_increase_tw))"
      ],
      "execution_count": 3,
      "outputs": [
        {
          "output_type": "stream",
          "text": [
            "[1, 0, 2, 0, 1, 1, 3, 0, 1, 1, 0, 0, 0, 1, 0, 5, 0, 1, 1, 0, 0, 0, 0, 0, 0, 2, 2, 0, 1, 1, 2, 0, 2, 2, 1, 1, 0, 2, 5, 1, 1, 1, 0, 2, 1, 0, 0, 0, 2, 1, 1, 1, 3, 6, 8, 10, 23, 8, 27, 18, 16, 26, 20, 20, 17, 15, 16, 15, 8, 16, 7, 10, 9, 7, 8, 10, 3, 3, 1, 2, 3, 3, 5, 0, 2, 0, 0, 3, 22, 2, 3, 1, 1, 1, 1, 0, 0, 0, 0, 0, 0, 3, 4, 2, 0, 1, 1, 0, 0, 0, 0, 0, 0, 0, 0, 0, 0, 0, 0, 0, 0, 1, 0, 0, 0, 0, 0]\n",
            "127\n"
          ],
          "name": "stdout"
        }
      ]
    },
    {
      "cell_type": "code",
      "metadata": {
        "id": "pGlWvZ-3eDvW",
        "colab_type": "code",
        "colab": {
          "base_uri": "https://localhost:8080/",
          "height": 71
        },
        "outputId": "faacbdd7-8796-4535-d711-aac9a131ed62"
      },
      "source": [
        "daily_increase_tw = [i - j for i, j in zip(cumulative_confirmed_tw, cumulative_confirmed_tw_lag)]\n",
        "print(daily_increase_tw)\n",
        "print(len(daily_increase_tw))"
      ],
      "execution_count": 4,
      "outputs": [
        {
          "output_type": "stream",
          "text": [
            "[1, 0, 2, 0, 1, 1, 3, 0, 1, 1, 0, 0, 0, 1, 0, 5, 0, 1, 1, 0, 0, 0, 0, 0, 0, 2, 2, 0, 1, 1, 2, 0, 2, 2, 1, 1, 0, 2, 5, 1, 1, 1, 0, 2, 1, 0, 0, 0, 2, 1, 1, 1, 3, 6, 8, 10, 23, 8, 27, 18, 16, 26, 20, 20, 17, 15, 16, 15, 8, 16, 7, 10, 9, 7, 8, 10, 3, 3, 1, 2, 3, 3, 5, 0, 2, 0, 0, 3, 22, 2, 3, 1, 1, 1, 1, 0, 0, 0, 0, 0, 0, 3, 4, 2, 0, 1, 1, 0, 0, 0, 0, 0, 0, 0, 0, 0, 0, 0, 0, 0, 0, 1, 0, 0, 0, 0, 0]\n",
            "127\n"
          ],
          "name": "stdout"
        }
      ]
    },
    {
      "cell_type": "code",
      "metadata": {
        "id": "6YMfHUW_eD1H",
        "colab_type": "code",
        "colab": {
          "base_uri": "https://localhost:8080/",
          "height": 71
        },
        "outputId": "c39c244d-d8e5-4af2-84c6-5f418d754fdb"
      },
      "source": [
        "print(dates)\n",
        "print(daily_increase_tw)"
      ],
      "execution_count": 5,
      "outputs": [
        {
          "output_type": "stream",
          "text": [
            "['1/22/20', '1/23/20', '1/24/20', '1/25/20', '1/26/20', '1/27/20', '1/28/20', '1/29/20', '1/30/20', '1/31/20', '2/1/20', '2/2/20', '2/3/20', '2/4/20', '2/5/20', '2/6/20', '2/7/20', '2/8/20', '2/9/20', '2/10/20', '2/11/20', '2/12/20', '2/13/20', '2/14/20', '2/15/20', '2/16/20', '2/17/20', '2/18/20', '2/19/20', '2/20/20', '2/21/20', '2/22/20', '2/23/20', '2/24/20', '2/25/20', '2/26/20', '2/27/20', '2/28/20', '2/29/20', '3/1/20', '3/2/20', '3/3/20', '3/4/20', '3/5/20', '3/6/20', '3/7/20', '3/8/20', '3/9/20', '3/10/20', '3/11/20', '3/12/20', '3/13/20', '3/14/20', '3/15/20', '3/16/20', '3/17/20', '3/18/20', '3/19/20', '3/20/20', '3/21/20', '3/22/20', '3/23/20', '3/24/20', '3/25/20', '3/26/20', '3/27/20', '3/28/20', '3/29/20', '3/30/20', '3/31/20', '4/1/20', '4/2/20', '4/3/20', '4/4/20', '4/5/20', '4/6/20', '4/7/20', '4/8/20', '4/9/20', '4/10/20', '4/11/20', '4/12/20', '4/13/20', '4/14/20', '4/15/20', '4/16/20', '4/17/20', '4/18/20', '4/19/20', '4/20/20', '4/21/20', '4/22/20', '4/23/20', '4/24/20', '4/25/20', '4/26/20', '4/27/20', '4/28/20', '4/29/20', '4/30/20', '5/1/20', '5/2/20', '5/3/20', '5/4/20', '5/5/20', '5/6/20', '5/7/20', '5/8/20', '5/9/20', '5/10/20', '5/11/20', '5/12/20', '5/13/20', '5/14/20', '5/15/20', '5/16/20', '5/17/20', '5/18/20', '5/19/20', '5/20/20', '5/21/20', '5/22/20', '5/23/20', '5/24/20', '5/25/20', '5/26/20', '5/27/20']\n",
            "[1, 0, 2, 0, 1, 1, 3, 0, 1, 1, 0, 0, 0, 1, 0, 5, 0, 1, 1, 0, 0, 0, 0, 0, 0, 2, 2, 0, 1, 1, 2, 0, 2, 2, 1, 1, 0, 2, 5, 1, 1, 1, 0, 2, 1, 0, 0, 0, 2, 1, 1, 1, 3, 6, 8, 10, 23, 8, 27, 18, 16, 26, 20, 20, 17, 15, 16, 15, 8, 16, 7, 10, 9, 7, 8, 10, 3, 3, 1, 2, 3, 3, 5, 0, 2, 0, 0, 3, 22, 2, 3, 1, 1, 1, 1, 0, 0, 0, 0, 0, 0, 3, 4, 2, 0, 1, 1, 0, 0, 0, 0, 0, 0, 0, 0, 0, 0, 0, 0, 0, 0, 1, 0, 0, 0, 0, 0]\n"
          ],
          "name": "stdout"
        }
      ]
    },
    {
      "cell_type": "code",
      "metadata": {
        "id": "cZizGSdweD8O",
        "colab_type": "code",
        "colab": {
          "base_uri": "https://localhost:8080/",
          "height": 71
        },
        "outputId": "27f8914a-1b84-46dc-e479-f310153e0536"
      },
      "source": [
        "plus_zero_dates = []\n",
        "for d, di in zip(dates, daily_increase_tw):\n",
        "    if di == 0:\n",
        "        plus_zero_dates.append(d)\n",
        "print(plus_zero_dates)\n",
        "print(len(plus_zero_dates))"
      ],
      "execution_count": 6,
      "outputs": [
        {
          "output_type": "stream",
          "text": [
            "['1/23/20', '1/25/20', '1/29/20', '2/1/20', '2/2/20', '2/3/20', '2/5/20', '2/7/20', '2/10/20', '2/11/20', '2/12/20', '2/13/20', '2/14/20', '2/15/20', '2/18/20', '2/22/20', '2/27/20', '3/4/20', '3/7/20', '3/8/20', '3/9/20', '4/14/20', '4/16/20', '4/17/20', '4/26/20', '4/27/20', '4/28/20', '4/29/20', '4/30/20', '5/1/20', '5/5/20', '5/8/20', '5/9/20', '5/10/20', '5/11/20', '5/12/20', '5/13/20', '5/14/20', '5/15/20', '5/16/20', '5/17/20', '5/18/20', '5/19/20', '5/20/20', '5/21/20', '5/23/20', '5/24/20', '5/25/20', '5/26/20', '5/27/20']\n",
            "50\n"
          ],
          "name": "stdout"
        }
      ]
    },
    {
      "cell_type": "code",
      "metadata": {
        "id": "oZPYqS2MeEDV",
        "colab_type": "code",
        "colab": {
          "base_uri": "https://localhost:8080/",
          "height": 71
        },
        "outputId": "875ba005-08d2-433b-8473-b79724b0081a"
      },
      "source": [
        "plus_zero_dates = [d for d, di in zip(dates, daily_increase_tw) if di == 0]\n",
        "print(plus_zero_dates)\n",
        "print(len(plus_zero_dates))"
      ],
      "execution_count": 7,
      "outputs": [
        {
          "output_type": "stream",
          "text": [
            "['1/23/20', '1/25/20', '1/29/20', '2/1/20', '2/2/20', '2/3/20', '2/5/20', '2/7/20', '2/10/20', '2/11/20', '2/12/20', '2/13/20', '2/14/20', '2/15/20', '2/18/20', '2/22/20', '2/27/20', '3/4/20', '3/7/20', '3/8/20', '3/9/20', '4/14/20', '4/16/20', '4/17/20', '4/26/20', '4/27/20', '4/28/20', '4/29/20', '4/30/20', '5/1/20', '5/5/20', '5/8/20', '5/9/20', '5/10/20', '5/11/20', '5/12/20', '5/13/20', '5/14/20', '5/15/20', '5/16/20', '5/17/20', '5/18/20', '5/19/20', '5/20/20', '5/21/20', '5/23/20', '5/24/20', '5/25/20', '5/26/20', '5/27/20']\n",
            "50\n"
          ],
          "name": "stdout"
        }
      ]
    },
    {
      "cell_type": "code",
      "metadata": {
        "id": "a5bbQ1yoeELG",
        "colab_type": "code",
        "colab": {
          "base_uri": "https://localhost:8080/",
          "height": 51
        },
        "outputId": "59ca9a3d-1f95-40e8-b557-209d5fa95efc"
      },
      "source": [
        "from random import sample\n",
        "\n",
        "n_samples = 0\n",
        "while True:\n",
        "    random_integer = sample(range(1, 1001), 1)[0]\n",
        "    n_samples += 1\n",
        "    if random_integer % 56 == 0:\n",
        "        break\n",
        "print(random_integer)\n",
        "print(n_samples)"
      ],
      "execution_count": 8,
      "outputs": [
        {
          "output_type": "stream",
          "text": [
            "56\n",
            "23\n"
          ],
          "name": "stdout"
        }
      ]
    },
    {
      "cell_type": "code",
      "metadata": {
        "id": "GW8M1rggeETF",
        "colab_type": "code",
        "colab": {
          "base_uri": "https://localhost:8080/",
          "height": 71
        },
        "outputId": "a899b71b-baac-4bc7-ab67-bbe0ecb1978f"
      },
      "source": [
        "sample_history = []\n",
        "while True:\n",
        "    random_integer = sample(range(1, 1001), 1)[0]\n",
        "    sample_history.append(random_integer)\n",
        "    if random_integer % 56 == 0:\n",
        "        break\n",
        "print(sample_history)\n",
        "print(len(sample_history))"
      ],
      "execution_count": 11,
      "outputs": [
        {
          "output_type": "stream",
          "text": [
            "[500, 383, 862, 627, 210, 855, 445, 758, 403, 134, 216, 967, 922, 300, 383, 932, 518, 514, 634, 862, 74, 751, 704, 388, 251, 861, 494, 258, 388, 461, 104, 556, 609, 945, 61, 871, 824, 887, 481, 597, 140, 190, 272, 937, 395, 225, 374, 607, 337, 265, 334, 277, 380, 230, 772, 64, 201, 909, 425, 75, 284, 539, 505, 380, 316, 447, 178, 757, 463, 405, 703, 972, 293, 373, 31, 965, 808, 668, 470, 650, 207, 431, 219, 946, 909, 805, 34, 694, 732, 45, 202, 2, 71, 89, 790, 487, 172, 290, 351, 546, 162, 470, 960, 15, 241, 635, 64, 85, 419, 280]\n",
            "110\n"
          ],
          "name": "stdout"
        }
      ]
    },
    {
      "cell_type": "code",
      "metadata": {
        "id": "zIltJ7wqeEb3",
        "colab_type": "code",
        "colab": {
          "base_uri": "https://localhost:8080/",
          "height": 34
        },
        "outputId": "af36c9b2-8038-4655-a051-1190e32ef67f"
      },
      "source": [
        "n_vowels = 0 \n",
        "for i in 'azcbobobegghak':\n",
        "    if i in ['a', 'e', 'i', 'o', 'u']:\n",
        "        #print(i)\n",
        "        n_vowels += 1\n",
        "print(n_vowels)"
      ],
      "execution_count": 10,
      "outputs": [
        {
          "output_type": "stream",
          "text": [
            "5\n"
          ],
          "name": "stdout"
        }
      ]
    },
    {
      "cell_type": "code",
      "metadata": {
        "id": "RYd2TpKheEjN",
        "colab_type": "code",
        "colab": {
          "base_uri": "https://localhost:8080/",
          "height": 34
        },
        "outputId": "088e29a4-1ac3-4dee-8640-da6cff2fb38b"
      },
      "source": [
        "test_str = 'azcbobobegghak'\n",
        "n_char = len(test_str)\n",
        "n_bobs = 0\n",
        "for i in range(n_char - 2):\n",
        "    #print(test_str[i:i+3])\n",
        "    if test_str[i:i+3] == 'bob':\n",
        "        n_bobs += 1\n",
        "print(n_bobs)"
      ],
      "execution_count": 9,
      "outputs": [
        {
          "output_type": "stream",
          "text": [
            "2\n"
          ],
          "name": "stdout"
        }
      ]
    },
    {
      "cell_type": "code",
      "metadata": {
        "id": "Vy0pCSOmeEq2",
        "colab_type": "code",
        "colab": {
          "base_uri": "https://localhost:8080/",
          "height": 34
        },
        "outputId": "ec59fc4e-710e-4ebe-ee4c-ea581700608b"
      },
      "source": [
        "x = list(range(1, 101))\n",
        "N = len(x)\n",
        "x_bar = sum(x) / N\n",
        "sse = 0\n",
        "for xi in x:\n",
        "    #error = xi - x_bar\n",
        "    squared_error = (xi - x_bar)**2\n",
        "    sse += squared_error #sse = sse + squared_error\n",
        "sample_mse = sse / (N-1)\n",
        "sample_stdev = sample_mse**(0.5)\n",
        "print(sample_stdev)"
      ],
      "execution_count": 12,
      "outputs": [
        {
          "output_type": "stream",
          "text": [
            "29.011491975882016\n"
          ],
          "name": "stdout"
        }
      ]
    },
    {
      "cell_type": "code",
      "metadata": {
        "id": "n7sPMgKqeEyV",
        "colab_type": "code",
        "colab": {
          "base_uri": "https://localhost:8080/",
          "height": 34
        },
        "outputId": "bb353f2a-4b62-4519-e552-62510413f7c9"
      },
      "source": [
        "from statistics import stdev\n",
        "\n",
        "stdev(range(1, 101)) # [1, 2, 3, ..., 100]"
      ],
      "execution_count": 13,
      "outputs": [
        {
          "output_type": "execute_result",
          "data": {
            "text/plain": [
              "29.011491975882016"
            ]
          },
          "metadata": {
            "tags": []
          },
          "execution_count": 13
        }
      ]
    },
    {
      "cell_type": "code",
      "metadata": {
        "id": "DwMB6LXDeE59",
        "colab_type": "code",
        "colab": {
          "base_uri": "https://localhost:8080/",
          "height": 255
        },
        "outputId": "f51fa873-d4dd-4f03-ceca-6a9cf9da2504"
      },
      "source": [
        "print(\"Luke\")\n",
        "print(\"use the Force!\")\n",
        "help(print)"
      ],
      "execution_count": 14,
      "outputs": [
        {
          "output_type": "stream",
          "text": [
            "Luke\n",
            "use the Force!\n",
            "Help on built-in function print in module builtins:\n",
            "\n",
            "print(...)\n",
            "    print(value, ..., sep=' ', end='\\n', file=sys.stdout, flush=False)\n",
            "    \n",
            "    Prints the values to a stream, or to sys.stdout by default.\n",
            "    Optional keyword arguments:\n",
            "    file:  a file-like object (stream); defaults to the current sys.stdout.\n",
            "    sep:   string inserted between values, default a space.\n",
            "    end:   string appended after the last value, default a newline.\n",
            "    flush: whether to forcibly flush the stream.\n",
            "\n"
          ],
          "name": "stdout"
        }
      ]
    },
    {
      "cell_type": "code",
      "metadata": {
        "id": "yD5uIVKQeFBX",
        "colab_type": "code",
        "colab": {
          "base_uri": "https://localhost:8080/",
          "height": 34
        },
        "outputId": "15c45e69-361c-437b-fd9a-f75f9af751cd"
      },
      "source": [
        "print(\"Luke\", end=\", \")\n",
        "print(\"use the Force!\")"
      ],
      "execution_count": 15,
      "outputs": [
        {
          "output_type": "stream",
          "text": [
            "Luke, use the Force!\n"
          ],
          "name": "stdout"
        }
      ]
    },
    {
      "cell_type": "code",
      "metadata": {
        "id": "X6W9HDGUeFJl",
        "colab_type": "code",
        "colab": {
          "base_uri": "https://localhost:8080/",
          "height": 34
        },
        "outputId": "ca837632-1fd5-4971-dc28-4929d2745d32"
      },
      "source": [
        "abs(-5566)"
      ],
      "execution_count": 16,
      "outputs": [
        {
          "output_type": "execute_result",
          "data": {
            "text/plain": [
              "5566"
            ]
          },
          "metadata": {
            "tags": []
          },
          "execution_count": 16
        }
      ]
    },
    {
      "cell_type": "code",
      "metadata": {
        "id": "R8Um_pjZeFRs",
        "colab_type": "code",
        "colab": {}
      },
      "source": [
        "def absolute(x):\n",
        "    \"\"\"\n",
        "    Returns the absolute value of x.\n",
        "    \"\"\"\n",
        "    if x < 0:\n",
        "        return -x\n",
        "    else:\n",
        "        return x"
      ],
      "execution_count": 0,
      "outputs": []
    },
    {
      "cell_type": "code",
      "metadata": {
        "id": "TbOPbZo_eFZO",
        "colab_type": "code",
        "colab": {
          "base_uri": "https://localhost:8080/",
          "height": 34
        },
        "outputId": "50c7708a-29e9-4470-81ce-3d4bf78a9122"
      },
      "source": [
        "positive_56 = absolute(-5566)\n",
        "print(positive_56)"
      ],
      "execution_count": 18,
      "outputs": [
        {
          "output_type": "stream",
          "text": [
            "5566\n"
          ],
          "name": "stdout"
        }
      ]
    },
    {
      "cell_type": "code",
      "metadata": {
        "id": "08q2I7xpeFhN",
        "colab_type": "code",
        "colab": {
          "base_uri": "https://localhost:8080/",
          "height": 34
        },
        "outputId": "14ed0891-9c71-4bc7-e5cc-02caad09d036"
      },
      "source": [
        "absolute(0)"
      ],
      "execution_count": 19,
      "outputs": [
        {
          "output_type": "execute_result",
          "data": {
            "text/plain": [
              "0"
            ]
          },
          "metadata": {
            "tags": []
          },
          "execution_count": 19
        }
      ]
    },
    {
      "cell_type": "code",
      "metadata": {
        "id": "mWQw1FdLeFpf",
        "colab_type": "code",
        "colab": {}
      },
      "source": [
        "def absolute(x):\n",
        "    \"\"\"\n",
        "    Returns the absolute value of x.\n",
        "    \"\"\"\n",
        "    if x < 0:\n",
        "        print(-x)\n",
        "    else:\n",
        "        print(x)"
      ],
      "execution_count": 0,
      "outputs": []
    },
    {
      "cell_type": "code",
      "metadata": {
        "id": "qgKUUJu0ei8L",
        "colab_type": "code",
        "colab": {
          "base_uri": "https://localhost:8080/",
          "height": 34
        },
        "outputId": "dd7f19b4-75b9-4e2b-e811-684bfda03107"
      },
      "source": [
        "absolute(-5566)"
      ],
      "execution_count": 20,
      "outputs": [
        {
          "output_type": "execute_result",
          "data": {
            "text/plain": [
              "5566"
            ]
          },
          "metadata": {
            "tags": []
          },
          "execution_count": 20
        }
      ]
    },
    {
      "cell_type": "code",
      "metadata": {
        "id": "4DYwL5aCejB2",
        "colab_type": "code",
        "colab": {
          "base_uri": "https://localhost:8080/",
          "height": 51
        },
        "outputId": "09b06b6f-2081-46b5-f51c-82d52d331412"
      },
      "source": [
        "positive_56 = absolute(-5566)\n",
        "print(positive_56)"
      ],
      "execution_count": 22,
      "outputs": [
        {
          "output_type": "stream",
          "text": [
            "-5566的絕對值是5566\n",
            "5566\n"
          ],
          "name": "stdout"
        }
      ]
    },
    {
      "cell_type": "code",
      "metadata": {
        "id": "uWx-Zsk5ejHt",
        "colab_type": "code",
        "colab": {}
      },
      "source": [
        "def absolute(x):\n",
        "    \"\"\"\n",
        "    Returns the absolute value of x.\n",
        "    \"\"\"\n",
        "    if x < 0:\n",
        "        abs_x = -x\n",
        "        print(\"{}的絕對值是{}\".format(x, abs_x))\n",
        "        return abs_x\n",
        "    else:\n",
        "        print(\"{}的絕對值是{}\".format(x, x))\n",
        "        return x"
      ],
      "execution_count": 0,
      "outputs": []
    },
    {
      "cell_type": "code",
      "metadata": {
        "id": "6ewTl27BejMN",
        "colab_type": "code",
        "colab": {
          "base_uri": "https://localhost:8080/",
          "height": 51
        },
        "outputId": "d3401804-253c-45c0-f350-b0a9b2461466"
      },
      "source": [
        "positive_56 = absolute(-5566)\n",
        "print(positive_56)"
      ],
      "execution_count": 23,
      "outputs": [
        {
          "output_type": "stream",
          "text": [
            "-5566的絕對值是5566\n",
            "5566\n"
          ],
          "name": "stdout"
        }
      ]
    },
    {
      "cell_type": "code",
      "metadata": {
        "id": "Zg46BD4KejRI",
        "colab_type": "code",
        "colab": {}
      },
      "source": [
        "def get_fahrenheit(x):\n",
        "    \"\"\"\n",
        "    Transform a Celsius degree into  Farenheit scale\n",
        "    \"\"\"\n",
        "    fah = x * 9/5 + 32\n",
        "    return fah"
      ],
      "execution_count": 0,
      "outputs": []
    },
    {
      "cell_type": "code",
      "metadata": {
        "id": "RAVKlLJHejVV",
        "colab_type": "code",
        "colab": {
          "base_uri": "https://localhost:8080/",
          "height": 34
        },
        "outputId": "df3f0a5a-f598-4f01-fe81-efa3be237492"
      },
      "source": [
        "get_fahrenheit(32)"
      ],
      "execution_count": 26,
      "outputs": [
        {
          "output_type": "execute_result",
          "data": {
            "text/plain": [
              "89.6"
            ]
          },
          "metadata": {
            "tags": []
          },
          "execution_count": 26
        }
      ]
    },
    {
      "cell_type": "code",
      "metadata": {
        "id": "aeKWKVoHejal",
        "colab_type": "code",
        "colab": {}
      },
      "source": [
        "def get_bmi(height, weight):\n",
        "    \"\"\"\n",
        "    Calculate BMI based on height and weight\n",
        "    \"\"\"\n",
        "    height = height / 100\n",
        "    bmi = weight / height**2\n",
        "    return bmi"
      ],
      "execution_count": 0,
      "outputs": []
    },
    {
      "cell_type": "code",
      "metadata": {
        "id": "jrpmYAImejfU",
        "colab_type": "code",
        "colab": {
          "base_uri": "https://localhost:8080/",
          "height": 34
        },
        "outputId": "67ef6a52-6efd-4a2b-d710-1c331578807f"
      },
      "source": [
        "get_bmi(198, 129)"
      ],
      "execution_count": 31,
      "outputs": [
        {
          "output_type": "execute_result",
          "data": {
            "text/plain": [
              "32.90480563207836"
            ]
          },
          "metadata": {
            "tags": []
          },
          "execution_count": 31
        }
      ]
    },
    {
      "cell_type": "code",
      "metadata": {
        "id": "UZQrWyFKejjp",
        "colab_type": "code",
        "colab": {
          "base_uri": "https://localhost:8080/",
          "height": 34
        },
        "outputId": "e22afa8d-1c5e-48da-ae44-b436893bc1c6"
      },
      "source": [
        "get_bmi(216, 147)"
      ],
      "execution_count": 32,
      "outputs": [
        {
          "output_type": "execute_result",
          "data": {
            "text/plain": [
              "31.507201646090532"
            ]
          },
          "metadata": {
            "tags": []
          },
          "execution_count": 32
        }
      ]
    },
    {
      "cell_type": "code",
      "metadata": {
        "id": "V7YgKuO4ejo-",
        "colab_type": "code",
        "colab": {}
      },
      "source": [
        "def is_prime(x):\n",
        "    \"\"\"\n",
        "    Returns True if x is a prime, or returns False\n",
        "    \"\"\"\n",
        "    divisors = []\n",
        "    for i in range(1, x+1):\n",
        "        if x % i == 0:\n",
        "            divisors.append(i)\n",
        "    n_divisors = len(divisors)\n",
        "    return n_divisors == 2"
      ],
      "execution_count": 0,
      "outputs": []
    },
    {
      "cell_type": "code",
      "metadata": {
        "id": "pxy-IpHPe7iK",
        "colab_type": "code",
        "colab": {
          "base_uri": "https://localhost:8080/",
          "height": 34
        },
        "outputId": "26ec0f0e-929d-42fa-ae79-d1b8e87d5ef1"
      },
      "source": [
        "is_prime(1)"
      ],
      "execution_count": 34,
      "outputs": [
        {
          "output_type": "execute_result",
          "data": {
            "text/plain": [
              "False"
            ]
          },
          "metadata": {
            "tags": []
          },
          "execution_count": 34
        }
      ]
    },
    {
      "cell_type": "code",
      "metadata": {
        "id": "wwXjm7R3e7ou",
        "colab_type": "code",
        "colab": {
          "base_uri": "https://localhost:8080/",
          "height": 34
        },
        "outputId": "f5d86804-e469-4552-cf57-76bff72705d3"
      },
      "source": [
        "is_prime(2)"
      ],
      "execution_count": 35,
      "outputs": [
        {
          "output_type": "execute_result",
          "data": {
            "text/plain": [
              "True"
            ]
          },
          "metadata": {
            "tags": []
          },
          "execution_count": 35
        }
      ]
    },
    {
      "cell_type": "code",
      "metadata": {
        "id": "xfXW6vOle7td",
        "colab_type": "code",
        "colab": {
          "base_uri": "https://localhost:8080/",
          "height": 34
        },
        "outputId": "ed709207-4d0a-4d7a-a81c-f1f1151b9fc3"
      },
      "source": [
        "is_prime(8)"
      ],
      "execution_count": 36,
      "outputs": [
        {
          "output_type": "execute_result",
          "data": {
            "text/plain": [
              "False"
            ]
          },
          "metadata": {
            "tags": []
          },
          "execution_count": 36
        }
      ]
    }
  ]
}
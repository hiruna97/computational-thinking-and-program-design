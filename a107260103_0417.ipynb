{
  "nbformat": 4,
  "nbformat_minor": 0,
  "metadata": {
    "colab": {
      "name": "a107260103_0417.ipynb",
      "provenance": [],
      "collapsed_sections": []
    },
    "kernelspec": {
      "name": "python3",
      "display_name": "Python 3"
    }
  },
  "cells": [
    {
      "cell_type": "code",
      "metadata": {
        "id": "NsVRxxAUymcL",
        "colab_type": "code",
        "colab": {}
      },
      "source": [
        "member_ages = [15, 20, 25, 30, 35, 46]\n",
        "list(filter(lambda:))\n",
        "\n",
        "#資料篩選(begin)"
      ],
      "execution_count": 0,
      "outputs": []
    },
    {
      "cell_type": "code",
      "metadata": {
        "id": "0JJaq89X1tek",
        "colab_type": "code",
        "colab": {
          "base_uri": "https://localhost:8080/",
          "height": 34
        },
        "outputId": "34a3ec72-54b5-4b39-ec50-df9643a8610c"
      },
      "source": [
        "if True:\n",
        "  print(\"真\")"
      ],
      "execution_count": 1,
      "outputs": [
        {
          "output_type": "stream",
          "text": [
            "真\n"
          ],
          "name": "stdout"
        }
      ]
    },
    {
      "cell_type": "code",
      "metadata": {
        "id": "BjgO5SqB2LOL",
        "colab_type": "code",
        "colab": {
          "base_uri": "https://localhost:8080/",
          "height": 34
        },
        "outputId": "02e7180b-7631-40c9-8700-1b301a7b6f48"
      },
      "source": [
        "if False:\n",
        "  print(\"真\")\n",
        "  #偵測IF後的保留字為True則會執行第二行(縮排) False則會跳過\n",
        "print(\"假\")"
      ],
      "execution_count": 5,
      "outputs": [
        {
          "output_type": "stream",
          "text": [
            "假\n"
          ],
          "name": "stdout"
        }
      ]
    },
    {
      "cell_type": "code",
      "metadata": {
        "id": "aKOalaiW7Mnw",
        "colab_type": "code",
        "colab": {
          "base_uri": "https://localhost:8080/",
          "height": 68
        },
        "outputId": "cc7d4062-a1eb-4383-e5c6-7b09d69d8155"
      },
      "source": [
        "movie_title =input('電影名稱')\n",
        "movie_rating =input('電影評分')\n",
        "movie_rating= float(movie_rating)\n",
        "\n",
        "if movie_rating>7:\n",
        "  print(\"{}評分為{}分 讚喔\".format(movie_title, movie_rating))"
      ],
      "execution_count": 8,
      "outputs": [
        {
          "output_type": "stream",
          "text": [
            "電影名稱哈\n",
            "電影評分8\n",
            "哈評分為8.0分 讚喔\n"
          ],
          "name": "stdout"
        }
      ]
    },
    {
      "cell_type": "code",
      "metadata": {
        "id": "t3_kdkpb8WRP",
        "colab_type": "code",
        "colab": {
          "base_uri": "https://localhost:8080/",
          "height": 85
        },
        "outputId": "e2dcd949-292c-40b4-90b6-8b1e041a8eee"
      },
      "source": [
        "salary = input(\"月薪:\")\n",
        "saving = input(\"存款:\")\n",
        "#做型別轉換\n",
        "#使用INT?\n",
        "salary = float(salary)\n",
        "saving = float(saving)\n",
        "if salary>30000:\n",
        "  print(\"發卡囉\")\n",
        "if salary<=30000:\n",
        "  print(\"GG\")\n",
        "if saving>300000:\n",
        "  print(\"發卡囉\")\n",
        "if saving<=300000:\n",
        "  print(\"GG\")"
      ],
      "execution_count": 15,
      "outputs": [
        {
          "output_type": "stream",
          "text": [
            "月薪:54000\n",
            "存款:45000\n",
            "發卡囉\n",
            "GG\n"
          ],
          "name": "stdout"
        }
      ]
    },
    {
      "cell_type": "code",
      "metadata": {
        "id": "9FLFuQ24_DrF",
        "colab_type": "code",
        "colab": {
          "base_uri": "https://localhost:8080/",
          "height": 102
        },
        "outputId": "bd257f91-7cdb-4c8d-8b15-e6d0eadb841b"
      },
      "source": [
        "salary = input(\"月薪:\")\n",
        "saving = input(\"存款:\")\n",
        "#做型別轉換\n",
        "#使用INT?\n",
        "salary = int(salary)\n",
        "saving = int(saving)\n",
        "print(type(salary))\n",
        "print(type(saving))\n",
        "#單向判斷 未達成則無聲卡 ANS\"\"中不放物件(空字串)\n",
        "ans = \"\"\n",
        "#條件判斷\n",
        "if salary>30000:\n",
        "  ans = \"發卡囉\"\n",
        "if saving>300000:\n",
        "  ans = \"發卡囉\"\n",
        "#判斷over\n",
        "print(ans)\n",
        "#未設定則一超過即達成"
      ],
      "execution_count": 20,
      "outputs": [
        {
          "output_type": "stream",
          "text": [
            "月薪:20000\n",
            "存款:20000\n",
            "<class 'int'>\n",
            "<class 'int'>\n",
            "\n"
          ],
          "name": "stdout"
        }
      ]
    },
    {
      "cell_type": "code",
      "metadata": {
        "id": "Gy8vJW3JBRXg",
        "colab_type": "code",
        "colab": {
          "base_uri": "https://localhost:8080/",
          "height": 68
        },
        "outputId": "01997208-8846-4f4d-9cda-9395a0f30bf4"
      },
      "source": [
        "salary = input(\"月薪:\")\n",
        "saving = input(\"存款:\")\n",
        "salary = int(salary)\n",
        "saving = int(saving)\n",
        "print(salary > 30000 and saving > 300000)\n",
        "#and(交集)需要兩個都符合\n",
        "#or(聯集)則只要一個即可\n",
        "#可簡化判斷式\n",
        "#if else"
      ],
      "execution_count": 21,
      "outputs": [
        {
          "output_type": "stream",
          "text": [
            "月薪:50000\n",
            "存款:50000\n",
            "False\n"
          ],
          "name": "stdout"
        }
      ]
    },
    {
      "cell_type": "code",
      "metadata": {
        "id": "6mvI6diAEKkB",
        "colab_type": "code",
        "colab": {
          "base_uri": "https://localhost:8080/",
          "height": 51
        },
        "outputId": "1a5b3d29-fcd1-47ad-eda0-3971431700d0"
      },
      "source": [
        "#判斷奇偶數\n",
        "user_int = input(\"type in a number\")\n",
        "user_int = int(user_int)\n",
        "if user_int % 2 ==0:\n",
        "  ans = \"even\"\n",
        "else:\n",
        "  ans = \"odd\"\n",
        "print(ans)"
      ],
      "execution_count": 24,
      "outputs": [
        {
          "output_type": "stream",
          "text": [
            "type in a number50\n",
            "even\n"
          ],
          "name": "stdout"
        }
      ]
    },
    {
      "cell_type": "code",
      "metadata": {
        "id": "QWoihswXJB5E",
        "colab_type": "code",
        "colab": {
          "base_uri": "https://localhost:8080/",
          "height": 51
        },
        "outputId": "0e9753f3-57a4-4f1b-9fb0-08e18be02fee"
      },
      "source": [
        "idcard = input(\"type in the last number\")\n",
        "idcard = int (idcard)\n",
        "if idcard % 2 == 0:\n",
        "  ans = \"you can buy on tuseday\"\n",
        "else:\n",
        "  ans = \"you can buy on monday\"\n",
        "print(ans)\n"
      ],
      "execution_count": 25,
      "outputs": [
        {
          "output_type": "stream",
          "text": [
            "type in the last number1\n",
            "you can buy on monday\n"
          ],
          "name": "stdout"
        }
      ]
    },
    {
      "cell_type": "code",
      "metadata": {
        "id": "db9_jiViJ8E5",
        "colab_type": "code",
        "colab": {
          "base_uri": "https://localhost:8080/",
          "height": 153
        },
        "outputId": "cb04f9a5-03ba-4e46-aa89-375dd46a0c68"
      },
      "source": [
        "help(id)"
      ],
      "execution_count": 26,
      "outputs": [
        {
          "output_type": "stream",
          "text": [
            "Help on built-in function id in module builtins:\n",
            "\n",
            "id(obj, /)\n",
            "    Return the identity of an object.\n",
            "    \n",
            "    This is guaranteed to be unique among simultaneously existing objects.\n",
            "    (CPython uses the object's memory address.)\n",
            "\n"
          ],
          "name": "stdout"
        }
      ]
    },
    {
      "cell_type": "code",
      "metadata": {
        "id": "IGFvKRL2KZlK",
        "colab_type": "code",
        "colab": {
          "base_uri": "https://localhost:8080/",
          "height": 51
        },
        "outputId": "ad1fe93c-f231-41a9-8512-76765f4001ef"
      },
      "source": [
        "idcard = input(\"type\")\n",
        "id_last_digit = idcard[-1]\n",
        "id_last_digit = int(id_last_digit)\n",
        "if id_last_digit %2==0:\n",
        "  ans = \"246\"\n",
        "else:\n",
        "  ans= \"135\"\n",
        "print(ans)"
      ],
      "execution_count": 27,
      "outputs": [
        {
          "output_type": "stream",
          "text": [
            "typeC121393898\n",
            "246\n"
          ],
          "name": "stdout"
        }
      ]
    },
    {
      "cell_type": "code",
      "metadata": {
        "id": "xJwnQQBELpBK",
        "colab_type": "code",
        "colab": {
          "base_uri": "https://localhost:8080/",
          "height": 68
        },
        "outputId": "51058f00-8969-4a7a-987c-c3f2d13a90d0"
      },
      "source": [
        "#bMi\n",
        "height=input(\"height\")\n",
        "weight=input(\"weight\")\n",
        "height=float(height)\n",
        "weight=float(weight)\n",
        "\n",
        "BMI = weight/(height*0.01)**2\n",
        "if BMI >30:\n",
        "  label=\"obese\"\n",
        "elif BMI > 25:\n",
        "  label=\"overweight\"\n",
        "elif BMI>18.5:\n",
        "  label=\"normalnormal\"\n",
        "else:\n",
        "  label=\"underweight\"\n",
        "print(label)"
      ],
      "execution_count": 36,
      "outputs": [
        {
          "output_type": "stream",
          "text": [
            "height175\n",
            "weight65\n",
            "normalnormal\n"
          ],
          "name": "stdout"
        }
      ]
    }
  ]
}
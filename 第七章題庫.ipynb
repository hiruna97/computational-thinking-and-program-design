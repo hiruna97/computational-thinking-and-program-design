{
  "nbformat": 4,
  "nbformat_minor": 0,
  "metadata": {
    "colab": {
      "name": "第七章題庫.ipynb",
      "provenance": [],
      "collapsed_sections": []
    },
    "kernelspec": {
      "name": "python3",
      "display_name": "Python 3"
    }
  },
  "cells": [
    {
      "cell_type": "code",
      "metadata": {
        "id": "ltOVESF6cszJ",
        "colab_type": "code",
        "colab": {
          "base_uri": "https://localhost:8080/",
          "height": 187
        },
        "outputId": "796ec54f-2198-412a-b0ab-d327327b0532"
      },
      "source": [
        "#第一題\n",
        "\n",
        "N=0\n",
        "L=[]\n",
        "while(N!=-9999):\n",
        "   N=eval(input(\"請輸入數字\"))\n",
        "   if N!=-9999:\n",
        "     L.append(N)\n",
        "    \n",
        "tuple1=tuple(L)\n",
        "print(tuple1)\n",
        "print(\"長度:\",len(tuple1))\n",
        "print(\"最大值:\",max(tuple1))\n",
        "print(\"最小值:\",min(tuple1))\n",
        "print(\"總和:\",sum(tuple1))\n"
      ],
      "execution_count": 11,
      "outputs": [
        {
          "output_type": "stream",
          "text": [
            "請輸入數字1\n",
            "請輸入數字5\n",
            "請輸入數字10\n",
            "請輸入數字20\n",
            "請輸入數字-9999\n",
            "(1, 5, 10, 20)\n",
            "長度: 4\n",
            "最大值: 20\n",
            "最小值: 1\n",
            "總和: 36\n"
          ],
          "name": "stdout"
        }
      ]
    },
    {
      "cell_type": "code",
      "metadata": {
        "id": "m81urqvE6N7G",
        "colab_type": "code",
        "colab": {
          "base_uri": "https://localhost:8080/",
          "height": 255
        },
        "outputId": "b54fa6d1-00f5-47e3-d789-3777936cfda4"
      },
      "source": [
        "#2\n",
        "N=0\n",
        "N2=0\n",
        "L1,L2=[],[]\n",
        "print('Create tuple1:')\n",
        "while(N!=-9999):\n",
        "  N=eval(input())\n",
        "  if N!=-9999:\n",
        "    L1.append(N)\n",
        "T1=tuple(L1)\n",
        " \n",
        "print('Create tuple2:')\n",
        "while(N2!=-9999):\n",
        "  N2=eval(input())\n",
        "  if N2!=-9999:\n",
        "    L2.append(N2)\n",
        " \n",
        "T2=tuple(L2)\n",
        " \n",
        "print('Combined tuple before sorting:', T1+T2)\n",
        "print('Combined list after sorting:', sorted(T1+T2))"
      ],
      "execution_count": 27,
      "outputs": [
        {
          "output_type": "stream",
          "text": [
            "Create tuple1:\n",
            "1\n",
            "2\n",
            "3\n",
            "5\n",
            "-9999\n",
            "Create tuple2:\n",
            "6\n",
            "7\n",
            "4\n",
            "2\n",
            "-9999\n",
            "Combined tuple before sorting: (1, 2, 3, 5, 6, 7, 4, 2)\n",
            "Combined list after sorting: [1, 2, 2, 3, 4, 5, 6, 7]\n"
          ],
          "name": "stdout"
        }
      ]
    },
    {
      "cell_type": "code",
      "metadata": {
        "id": "Ba2sDUpClrjc",
        "colab_type": "code",
        "colab": {
          "base_uri": "https://localhost:8080/",
          "height": 170
        },
        "outputId": "1ec9a651-f6ac-4573-8243-4efd20aab098"
      },
      "source": [
        "#第三題\n",
        "\n",
        "L1=[]\n",
        "while True:\n",
        "  N=input(\"請輸入\")\n",
        "  if N ==\"end\":\n",
        "    break\n",
        "  L1.append(N)\n",
        "T1=tuple(L1)\n",
        "\n",
        "print(T1)\n",
        "print(T1[0:3])\n",
        "print(T1[-3:])"
      ],
      "execution_count": 13,
      "outputs": [
        {
          "output_type": "stream",
          "text": [
            "請輸入i\n",
            "請輸入am\n",
            "請輸入your\n",
            "請輸入father\n",
            "請輸入desu\n",
            "請輸入end\n",
            "('i', 'am', 'your', 'father', 'desu')\n",
            "('i', 'am', 'your')\n",
            "('your', 'father', 'desu')\n"
          ],
          "name": "stdout"
        }
      ]
    },
    {
      "cell_type": "code",
      "metadata": {
        "id": "zy2oGXO46XS3",
        "colab_type": "code",
        "colab": {
          "base_uri": "https://localhost:8080/",
          "height": 204
        },
        "outputId": "166f01de-7b50-4053-ac5c-d6934fce25af"
      },
      "source": [
        "#4\n",
        "L=set()\n",
        "while True:\n",
        "  N=eval(input())\n",
        "  if N==-9999:\n",
        "    break\n",
        "  L.add(N)\n",
        " \n",
        "print('Length:',len(L) )\n",
        "print('Max:',max(L))\n",
        "print('Min:',min(L))\n",
        "print('Sum:',sum(L))"
      ],
      "execution_count": 28,
      "outputs": [
        {
          "output_type": "stream",
          "text": [
            "1\n",
            "5\n",
            "9\n",
            "84\n",
            "65\n",
            "-999\n",
            "-9999\n",
            "Length: 6\n",
            "Max: 84\n",
            "Min: -999\n",
            "Sum: -835\n"
          ],
          "name": "stdout"
        }
      ]
    },
    {
      "cell_type": "code",
      "metadata": {
        "id": "n9Rem7THzl0g",
        "colab_type": "code",
        "colab": {
          "base_uri": "https://localhost:8080/",
          "height": 391
        },
        "outputId": "63db4007-e4af-4dc0-96b4-cc9ee10b9fd4"
      },
      "source": [
        "#第五題\n",
        "S1,S2,S3=set(),set(),set()\n",
        "print(\"輸入組1:\")\n",
        "for i in range(5):\n",
        "  S1.add(eval(input()))\n",
        "\n",
        "print(\"輸入組2:\")\n",
        "for i in range(3):\n",
        "  S2.add(eval(input()))\n",
        "\n",
        "print(\"輸入組3:\")\n",
        "for i in range(9):\n",
        "  S3.add(eval(input()))\n",
        "\n",
        "print(\"組2為組1子集合?\",end=\"\")\n",
        "if S2.issubset(s1)==True:   \n",
        "  print(\"對的啦\") \n",
        "else:\n",
        "  print(\"並沒有\")\n",
        "\n",
        "print(\"組3為組1超集合?\",end=\"\")\n",
        "if S3.issuperset(s1)==True:\n",
        "  print(\"對的啦\")\n",
        "else:\n",
        "   print(\"並沒有\")"
      ],
      "execution_count": 19,
      "outputs": [
        {
          "output_type": "stream",
          "text": [
            "輸入組1:\n",
            "1\n",
            "2\n",
            "3\n",
            "4\n",
            "5\n",
            "輸入組2:\n",
            "6\n",
            "7\n",
            "8\n",
            "輸入組3:\n",
            "9\n",
            "10\n",
            "11\n",
            "12\n",
            "13\n",
            "4\n",
            "15\n",
            "16\n",
            "17\n",
            "組2為組1子集合?並沒有\n",
            "組3為組1超集合?對的啦\n"
          ],
          "name": "stdout"
        }
      ]
    },
    {
      "cell_type": "code",
      "metadata": {
        "id": "7OrBqouL6en2",
        "colab_type": "code",
        "colab": {
          "base_uri": "https://localhost:8080/",
          "height": 102
        },
        "outputId": "1318a2f6-f910-4817-8325-c67179d43fe3"
      },
      "source": [
        "#6\n",
        "k=int(input())\n",
        "str1 = set('abcdefghijklmnopqrstuvwxyz')\n",
        "for i in range(k):\n",
        "  str2=input()\n",
        "  str2=set(str2.lower()) #將輸入的字串轉成小寫，並設成集合\n",
        "  str2.discard(\" \") #如果集合中，有空格，那麼就刪掉，以免影響判斷\n",
        "  print(str1==str2) #將輸入的字串，與a~z做比對"
      ],
      "execution_count": 35,
      "outputs": [
        {
          "output_type": "stream",
          "text": [
            "2\n",
            "Jived fox nymph grabs quick waltz\n",
            "True\n",
            "iamyourfatherdoyouknow\n",
            "False\n"
          ],
          "name": "stdout"
        }
      ]
    },
    {
      "cell_type": "code",
      "metadata": {
        "id": "pduzOENY3rpn",
        "colab_type": "code",
        "colab": {
          "base_uri": "https://localhost:8080/",
          "height": 340
        },
        "outputId": "119521fd-e425-49da-a7e3-d8bb31667213"
      },
      "source": [
        "#第七題\n",
        "x=set()\n",
        "y=set()\n",
        "print(\"請輸入X組科目:\")\n",
        "while True:\n",
        "  enter=input()\n",
        "  if enter==\"end\":\n",
        "    break\n",
        "  x.add(enter)\n",
        "\n",
        "print(\"請輸入Y組科目:\")\n",
        "while True:\n",
        "  enter=input()\n",
        "  if enter==\"end\":\n",
        "    break\n",
        "  y.add(enter)\n",
        "\n",
        "print(sorted(x|y))\n",
        "print(sorted(x&y))\n",
        "print(sorted(y-x))\n",
        "print(sorted(x^y))\n",
        "\n",
        "\n"
      ],
      "execution_count": 25,
      "outputs": [
        {
          "output_type": "stream",
          "text": [
            "請輸入X組科目:\n",
            "man\n",
            "i\n",
            "am\n",
            "so\n",
            "handsome\n",
            "nd\n",
            "end\n",
            "請輸入Y組科目:\n",
            "yo\n",
            "bro\n",
            "youre\n",
            "so\n",
            "ugly\n",
            "end\n",
            "['am', 'bro', 'handsome', 'i', 'man', 'nd', 'so', 'ugly', 'yo', 'youre']\n",
            "['so']\n",
            "['bro', 'ugly', 'yo', 'youre']\n",
            "['am', 'bro', 'handsome', 'i', 'man', 'nd', 'ugly', 'yo', 'youre']\n"
          ],
          "name": "stdout"
        }
      ]
    },
    {
      "cell_type": "code",
      "metadata": {
        "id": "Fy6pGwyG6jyX",
        "colab_type": "code",
        "colab": {
          "base_uri": "https://localhost:8080/",
          "height": 340
        },
        "outputId": "5207c01d-1c43-42ec-9fb7-bad085b84752"
      },
      "source": [
        "#8\n",
        "d1={}\n",
        "d2={}\n",
        "print('Create dict1:')\n",
        "while True:\n",
        "    Key1 = input('Key: ')\n",
        "    if Key1==\"end\":\n",
        "      break\n",
        "    d1[Key1] = input('Value: ')\n",
        " \n",
        "print('Create dict2:')\n",
        "while True:\n",
        "    Key2 = input('Key: ')\n",
        "    if Key2==\"end\":\n",
        "      break\n",
        "    d2[Key2] = input('Value: ')\n",
        " \n",
        "d1.update(d2)\n",
        "for i in sorted(d1.keys()):\n",
        "  print(i,\": \",d1[i],sep=\"\")"
      ],
      "execution_count": 33,
      "outputs": [
        {
          "output_type": "stream",
          "text": [
            "Create dict1:\n",
            "Key: a\n",
            "Value: apple\n",
            "Key: b\n",
            "Value: bandana\n",
            "Key: c\n",
            "Value: chok\n",
            "Key: end\n",
            "Create dict2:\n",
            "Key: d\n",
            "Value: damnit\n",
            "Key: e\n",
            "Value: eatyourface\n",
            "Key: end\n",
            "a: apple\n",
            "b: bandana\n",
            "c: chok\n",
            "d: damnit\n",
            "e: eatyourface\n"
          ],
          "name": "stdout"
        }
      ]
    },
    {
      "cell_type": "code",
      "metadata": {
        "id": "Vmb7d2ka5f5X",
        "colab_type": "code",
        "colab": {
          "base_uri": "https://localhost:8080/",
          "height": 187
        },
        "outputId": "ef87cce3-42b4-4f9c-bd2c-f3a5db13055e"
      },
      "source": [
        "#第九題\n",
        "color_dict={}\n",
        "while True:\n",
        "  K=input(\"顏色: \")\n",
        "  if K==\"end\":\n",
        "    break\n",
        "  color_dict[K]=input(\"值: \")\n",
        "for i in sorted(color_dict.keys()):\n",
        "  print(i,\": \",color_dict[i],sep=\"\")"
      ],
      "execution_count": 26,
      "outputs": [
        {
          "output_type": "stream",
          "text": [
            "顏色: green\n",
            "值: 很綠\n",
            "顏色: blue\n",
            "值: 很藍\n",
            "顏色: purple\n",
            "值: 很紫\n",
            "顏色: end\n",
            "blue: 很藍\n",
            "green: 很綠\n",
            "purple: 很紫\n"
          ],
          "name": "stdout"
        }
      ]
    },
    {
      "cell_type": "code",
      "metadata": {
        "id": "YsdMr12X6l43",
        "colab_type": "code",
        "colab": {
          "base_uri": "https://localhost:8080/",
          "height": 170
        },
        "outputId": "11c02cd7-e9f8-4049-cffa-88f2dcab1e1f"
      },
      "source": [
        "#10\n",
        "d1={}\n",
        "while True:\n",
        "  K=input(\"Key: \")\n",
        "  if K==\"end\":\n",
        "    break\n",
        "  d1[K]=input(\"Value: \")\n",
        " \n",
        "sc=input(\"Search key: \")\n",
        "print(sc in d1.keys())"
      ],
      "execution_count": 34,
      "outputs": [
        {
          "output_type": "stream",
          "text": [
            "Key: 31415926\n",
            "Value: 圓周率的啦\n",
            "Key: 4129889\n",
            "Value: 披薩哈哈到家\n",
            "Key: 22368255\n",
            "Value: 世新大學您好請問您要轉至哪處室\n",
            "Key: end\n",
            "Search key: 22368255\n",
            "True\n"
          ],
          "name": "stdout"
        }
      ]
    }
  ]
}
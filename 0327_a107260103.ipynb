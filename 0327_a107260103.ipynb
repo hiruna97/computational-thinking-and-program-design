{
  "nbformat": 4,
  "nbformat_minor": 0,
  "metadata": {
    "colab": {
      "name": "0327_a107260103.ipynb",
      "provenance": []
    },
    "kernelspec": {
      "name": "python3",
      "display_name": "Python 3"
    }
  },
  "cells": [
    {
      "cell_type": "code",
      "metadata": {
        "id": "VSL8in6Ol_Y4",
        "colab_type": "code",
        "colab": {
          "base_uri": "https://localhost:8080/",
          "height": 68
        },
        "outputId": "487be85f-0362-4a98-ff90-a2b031108464"
      },
      "source": [
        "movie_title = \"moana\"\n",
        "movie_rating = 7.6\n",
        "movie_time = 107\n",
        "\n",
        "print(movie_title)\n",
        "print(movie_rating)\n",
        "print(movie_time)\n"
      ],
      "execution_count": 2,
      "outputs": [
        {
          "output_type": "stream",
          "text": [
            "moana\n",
            "7.6\n",
            "107\n"
          ],
          "name": "stdout"
        }
      ]
    },
    {
      "cell_type": "code",
      "metadata": {
        "id": "5izyDiMhnc1I",
        "colab_type": "code",
        "colab": {
          "base_uri": "https://localhost:8080/",
          "height": 34
        },
        "outputId": "9ad2862d-9a05-44d4-f60e-da7e66d8d84c"
      },
      "source": [
        "movie_time_hour = 1\n",
        "movie_time_min = 47\n",
        "\n",
        "movie_time_hour * 60 +movie_time_min "
      ],
      "execution_count": 5,
      "outputs": [
        {
          "output_type": "execute_result",
          "data": {
            "text/plain": [
              "107"
            ]
          },
          "metadata": {
            "tags": []
          },
          "execution_count": 5
        }
      ]
    },
    {
      "cell_type": "code",
      "metadata": {
        "id": "qeH8Nu43n0OF",
        "colab_type": "code",
        "colab": {
          "base_uri": "https://localhost:8080/",
          "height": 34
        },
        "outputId": "0d657223-f34d-4802-8bd3-8ac4011bff00"
      },
      "source": [
        "movie_time_hour + movie_time_min/60\n"
      ],
      "execution_count": 6,
      "outputs": [
        {
          "output_type": "execute_result",
          "data": {
            "text/plain": [
              "1.7833333333333332"
            ]
          },
          "metadata": {
            "tags": []
          },
          "execution_count": 6
        }
      ]
    },
    {
      "cell_type": "code",
      "metadata": {
        "id": "xP8Z_fW0oX4H",
        "colab_type": "code",
        "colab": {
          "base_uri": "https://localhost:8080/",
          "height": 34
        },
        "outputId": "3e6641fc-e759-40fc-beaa-ba5f1622a915"
      },
      "source": [
        "8**0.5"
      ],
      "execution_count": 7,
      "outputs": [
        {
          "output_type": "execute_result",
          "data": {
            "text/plain": [
              "2.8284271247461903"
            ]
          },
          "metadata": {
            "tags": []
          },
          "execution_count": 7
        }
      ]
    },
    {
      "cell_type": "code",
      "metadata": {
        "id": "Uh7hthLTobxv",
        "colab_type": "code",
        "colab": {
          "base_uri": "https://localhost:8080/",
          "height": 34
        },
        "outputId": "7322ed64-c83e-4935-c8a4-9e6cb84edcf5"
      },
      "source": [
        "8**1/3\n"
      ],
      "execution_count": 8,
      "outputs": [
        {
          "output_type": "execute_result",
          "data": {
            "text/plain": [
              "2.6666666666666665"
            ]
          },
          "metadata": {
            "tags": []
          },
          "execution_count": 8
        }
      ]
    },
    {
      "cell_type": "code",
      "metadata": {
        "id": "dKBqPzsSotSH",
        "colab_type": "code",
        "colab": {
          "base_uri": "https://localhost:8080/",
          "height": 34
        },
        "outputId": "e60d32d4-6c19-4004-eeaf-472f57718a66"
      },
      "source": [
        "8**(1/3)"
      ],
      "execution_count": 9,
      "outputs": [
        {
          "output_type": "execute_result",
          "data": {
            "text/plain": [
              "2.0"
            ]
          },
          "metadata": {
            "tags": []
          },
          "execution_count": 9
        }
      ]
    },
    {
      "cell_type": "code",
      "metadata": {
        "id": "j7Vo07sQpds3",
        "colab_type": "code",
        "colab": {
          "base_uri": "https://localhost:8080/",
          "height": 34
        },
        "outputId": "844aec8d-cb44-488f-ecd7-803f9f4d0907"
      },
      "source": [
        "55% 2"
      ],
      "execution_count": 10,
      "outputs": [
        {
          "output_type": "execute_result",
          "data": {
            "text/plain": [
              "1"
            ]
          },
          "metadata": {
            "tags": []
          },
          "execution_count": 10
        }
      ]
    },
    {
      "cell_type": "code",
      "metadata": {
        "id": "Geg4ZlUvpkQG",
        "colab_type": "code",
        "colab": {
          "base_uri": "https://localhost:8080/",
          "height": 34
        },
        "outputId": "a2490616-27a4-482d-e5c1-4cf1b7012727"
      },
      "source": [
        "247% 15"
      ],
      "execution_count": 11,
      "outputs": [
        {
          "output_type": "execute_result",
          "data": {
            "text/plain": [
              "7"
            ]
          },
          "metadata": {
            "tags": []
          },
          "execution_count": 11
        }
      ]
    },
    {
      "cell_type": "code",
      "metadata": {
        "id": "UW0-H2y8rOyG",
        "colab_type": "code",
        "colab": {
          "base_uri": "https://localhost:8080/",
          "height": 34
        },
        "outputId": "833fa239-fdfc-4abe-ce4f-f68af602c2f9"
      },
      "source": [
        "current_tempc =29\n",
        "current_tempf = current_tempc *9/5+32\n",
        "print(current_tempf)"
      ],
      "execution_count": 15,
      "outputs": [
        {
          "output_type": "stream",
          "text": [
            "84.2\n"
          ],
          "name": "stdout"
        }
      ]
    },
    {
      "cell_type": "code",
      "metadata": {
        "id": "ql4QwIW9sah_",
        "colab_type": "code",
        "colab": {
          "base_uri": "https://localhost:8080/",
          "height": 34
        },
        "outputId": "a060d991-f0d7-41b0-ffb0-47484d79e82e"
      },
      "source": [
        "current_tempc = (current_tempf -32)/9*5\n",
        "print(current_tempc)"
      ],
      "execution_count": 17,
      "outputs": [
        {
          "output_type": "stream",
          "text": [
            "29.000000000000004\n"
          ],
          "name": "stdout"
        }
      ]
    },
    {
      "cell_type": "code",
      "metadata": {
        "id": "8fYsuj-DwmZ4",
        "colab_type": "code",
        "colab": {
          "base_uri": "https://localhost:8080/",
          "height": 34
        },
        "outputId": "5386cba8-4c32-41eb-f8cf-f73be78ac330"
      },
      "source": [
        "oresama_h = 175\n",
        "oresama_w = 65\n",
        "oresama_bmi = oresama_w / (oresama_h/100)**2\n",
        "print(oresama_bmi)"
      ],
      "execution_count": 20,
      "outputs": [
        {
          "output_type": "stream",
          "text": [
            "21.224489795918366\n"
          ],
          "name": "stdout"
        }
      ]
    },
    {
      "cell_type": "code",
      "metadata": {
        "id": "bBTtvijB08XY",
        "colab_type": "code",
        "colab": {
          "base_uri": "https://localhost:8080/",
          "height": 34
        },
        "outputId": "c83928d8-fd78-4752-89e3-800ca94fa9ee"
      },
      "source": [
        "movie_title = 'moana'\n",
        "print(movie_title )"
      ],
      "execution_count": 22,
      "outputs": [
        {
          "output_type": "stream",
          "text": [
            "moana\n"
          ],
          "name": "stdout"
        }
      ]
    },
    {
      "cell_type": "code",
      "metadata": {
        "id": "fIeumAQ81eTo",
        "colab_type": "code",
        "colab": {
          "base_uri": "https://localhost:8080/",
          "height": 68
        },
        "outputId": "ff100f14-1798-47c4-8102-f6ad28800659"
      },
      "source": [
        "movie_story_line=\"\"\"In Ancient Polynesia, when a terrible curse incurred \n",
        "by the Demigod Maui reaches Moana's island,\n",
        "she answers the Ocean's call to seek out the Demigod to set things right.\"\"\"\n",
        "print(movie_story_line)"
      ],
      "execution_count": 25,
      "outputs": [
        {
          "output_type": "stream",
          "text": [
            "In Ancient Polynesia, when a terrible curse incurred \n",
            "by the Demigod Maui reaches Moana's island,\n",
            "she answers the Ocean's call to seek out the Demigod to set things right.\n"
          ],
          "name": "stdout"
        }
      ]
    },
    {
      "cell_type": "code",
      "metadata": {
        "id": "xB1eemHc2Clv",
        "colab_type": "code",
        "colab": {
          "base_uri": "https://localhost:8080/",
          "height": 34
        },
        "outputId": "7868192d-ae11-4cf6-fc79-e32298479763"
      },
      "source": [
        "WTF=\"what'the'fuck\"\n",
        "print(WTF)"
      ],
      "execution_count": 28,
      "outputs": [
        {
          "output_type": "stream",
          "text": [
            "what'the'fuck\n"
          ],
          "name": "stdout"
        }
      ]
    },
    {
      "cell_type": "code",
      "metadata": {
        "id": "FDOsFBeD2irG",
        "colab_type": "code",
        "colab": {
          "base_uri": "https://localhost:8080/",
          "height": 34
        },
        "outputId": "75dd64ec-6390-49d5-842e-69fae96ccd0c"
      },
      "source": [
        "wtf='what\\'the\\'fuck'\n",
        "print(wtf)"
      ],
      "execution_count": 30,
      "outputs": [
        {
          "output_type": "stream",
          "text": [
            "what'the'fuck\n"
          ],
          "name": "stdout"
        }
      ]
    },
    {
      "cell_type": "code",
      "metadata": {
        "id": "gN0ZV4qh3IAH",
        "colab_type": "code",
        "colab": {
          "base_uri": "https://localhost:8080/",
          "height": 34
        },
        "outputId": "712452cf-a906-4c65-ad26-19364e1b7acf"
      },
      "source": [
        "MCD=\"i'm lovin' it!\"\n",
        "print(MCD)"
      ],
      "execution_count": 31,
      "outputs": [
        {
          "output_type": "stream",
          "text": [
            "i'm lovin' it!\n"
          ],
          "name": "stdout"
        }
      ]
    },
    {
      "cell_type": "code",
      "metadata": {
        "id": "vOIs280W3Scf",
        "colab_type": "code",
        "colab": {
          "base_uri": "https://localhost:8080/",
          "height": 34
        },
        "outputId": "7ff676cd-1414-4e98-8560-381e7e1a9cfb"
      },
      "source": [
        "BIGMAC='i \\'m lovin\\' it!'\n",
        "print(BIGMAC)"
      ],
      "execution_count": 33,
      "outputs": [
        {
          "output_type": "stream",
          "text": [
            "i 'm lovin' it!\n"
          ],
          "name": "stdout"
        }
      ]
    },
    {
      "cell_type": "code",
      "metadata": {
        "id": "C6jPPUeo42p3",
        "colab_type": "code",
        "colab": {
          "base_uri": "https://localhost:8080/",
          "height": 34
        },
        "outputId": "dfb5ad28-5c2a-42bf-b5f3-fb13e6dd3bac"
      },
      "source": [
        "#what did ross said?\n",
        "shesaid = \"\"\"Let's put aside the fact that you \"accidentally\" pick up my grandmother's ring\"\"\"\n",
        "print(shesaid)"
      ],
      "execution_count": 34,
      "outputs": [
        {
          "output_type": "stream",
          "text": [
            "Let's put aside the fact that you \"accidentally\" pick up my grandmother's ring\n"
          ],
          "name": "stdout"
        }
      ]
    },
    {
      "cell_type": "code",
      "metadata": {
        "id": "v5iJF8PQ7S9c",
        "colab_type": "code",
        "colab": {
          "base_uri": "https://localhost:8080/",
          "height": 34
        },
        "outputId": "6f344b65-9c8f-4f0f-b909-192366f813da"
      },
      "source": [
        "#文字嵌入 string interpolation\n",
        "#{}挖洞 插入物件的值\n",
        "\"{}的評等是{}，片長為{}分鐘\".format(movie_title,movie_rating,movie_time)"
      ],
      "execution_count": 35,
      "outputs": [
        {
          "output_type": "execute_result",
          "data": {
            "text/plain": [
              "'moana的評等是7.6，片長為107分鐘'"
            ]
          },
          "metadata": {
            "tags": []
          },
          "execution_count": 35
        }
      ]
    },
    {
      "cell_type": "code",
      "metadata": {
        "id": "ql83pa8C_ImJ",
        "colab_type": "code",
        "colab": {
          "base_uri": "https://localhost:8080/",
          "height": 34
        },
        "outputId": "0a72bf92-5d15-4276-f692-4cce2ab0ed94"
      },
      "source": [
        "movie_title = \"finding nemo\"\n",
        "movie_rating = 8.1\n",
        "movie_time = 100\n",
        "\"{}的評等是{}，片長為{}分鐘\".format(movie_title,movie_rating,movie_time)"
      ],
      "execution_count": 37,
      "outputs": [
        {
          "output_type": "execute_result",
          "data": {
            "text/plain": [
              "'finding nemo的評等是8.1，片長為100分鐘'"
            ]
          },
          "metadata": {
            "tags": []
          },
          "execution_count": 37
        }
      ]
    },
    {
      "cell_type": "code",
      "metadata": {
        "id": "0YXYlY7g_37-",
        "colab_type": "code",
        "colab": {}
      },
      "source": [
        ""
      ],
      "execution_count": 0,
      "outputs": []
    },
    {
      "cell_type": "code",
      "metadata": {
        "colab_type": "code",
        "outputId": "a6b3ccc2-a5e7-4834-daca-8a1e12670bf3",
        "id": "NF9VK856_674",
        "colab": {
          "base_uri": "https://localhost:8080/",
          "height": 34
        }
      },
      "source": [
        "movie_title = \"finding nemo\"\n",
        "movie_rating = 8.1\n",
        "movie_time = 100\n",
        "number_of_ratings = 906432\n",
        "# :.0f 四捨五入 :, 追加千分點 :.2f 追加兩位小數\n",
        "\"{}的評等是{:.0f}，基於{:,}個評分，片長為{:.2f}分鐘\".format(movie_title,movie_rating,number_of_ratings,movie_time)"
      ],
      "execution_count": 39,
      "outputs": [
        {
          "output_type": "execute_result",
          "data": {
            "text/plain": [
              "'finding nemo的評等是8，基於906,432個評分，片長為100.00分鐘'"
            ]
          },
          "metadata": {
            "tags": []
          },
          "execution_count": 39
        }
      ]
    },
    {
      "cell_type": "code",
      "metadata": {
        "id": "_f9jN7G6Az9B",
        "colab_type": "code",
        "colab": {
          "base_uri": "https://localhost:8080/",
          "height": 51
        },
        "outputId": "9e735c3e-975e-4cca-ef92-7043d9185c76"
      },
      "source": [
        "#imput\n",
        "movie_title = input(\"請輸入電影名稱:\")\n",
        "movie_rating= input(\"請輸入電影評等:\")\n",
        "\n"
      ],
      "execution_count": 46,
      "outputs": [
        {
          "output_type": "stream",
          "text": [
            "請輸入電影名稱:逃學威龍2\n",
            "請輸入電影評等:10\n"
          ],
          "name": "stdout"
        }
      ]
    },
    {
      "cell_type": "code",
      "metadata": {
        "id": "-2LyvwwtD7-a",
        "colab_type": "code",
        "colab": {}
      },
      "source": [
        ""
      ],
      "execution_count": 0,
      "outputs": []
    },
    {
      "cell_type": "code",
      "metadata": {
        "id": "QA7CuqHmCQVp",
        "colab_type": "code",
        "colab": {
          "base_uri": "https://localhost:8080/",
          "height": 34
        },
        "outputId": "cdbc997e-38d4-450f-f315-744c00aa8c99"
      },
      "source": [
        "(\"{}的評等為{}\").format(movie_title,movie_rating)"
      ],
      "execution_count": 52,
      "outputs": [
        {
          "output_type": "execute_result",
          "data": {
            "text/plain": [
              "'逃學威龍2的評等為10'"
            ]
          },
          "metadata": {
            "tags": []
          },
          "execution_count": 52
        }
      ]
    },
    {
      "cell_type": "code",
      "metadata": {
        "id": "iL9lio46CZTf",
        "colab_type": "code",
        "colab": {
          "base_uri": "https://localhost:8080/",
          "height": 51
        },
        "outputId": "fefbed1f-cdef-47a7-dcac-965161b34822"
      },
      "source": [
        "place = input(\"please enter your location:\")\n",
        "weather = input(\"please enter the weather:\")\n",
        "\n"
      ],
      "execution_count": 54,
      "outputs": [
        {
          "output_type": "stream",
          "text": [
            "please enter your location:takao\n",
            "please enter the weather:money\n"
          ],
          "name": "stdout"
        }
      ]
    },
    {
      "cell_type": "code",
      "metadata": {
        "id": "UlTIKzOACu0L",
        "colab_type": "code",
        "colab": {
          "base_uri": "https://localhost:8080/",
          "height": 34
        },
        "outputId": "c9301af0-e341-4f0d-afa7-e4174963bc7d"
      },
      "source": [
        "(\"我在{}，天氣{}\").format(place,weather)"
      ],
      "execution_count": 51,
      "outputs": [
        {
          "output_type": "execute_result",
          "data": {
            "text/plain": [
              "'我在taiper，天氣sunny'"
            ]
          },
          "metadata": {
            "tags": []
          },
          "execution_count": 51
        }
      ]
    },
    {
      "cell_type": "code",
      "metadata": {
        "id": "UKoKkRSbD-Ew",
        "colab_type": "code",
        "colab": {
          "base_uri": "https://localhost:8080/",
          "height": 34
        },
        "outputId": "0d9c80f3-3b56-4aa8-ec9d-34c3db0e1ef7"
      },
      "source": [
        "print((\"我在{}，天氣{}\").format(place,weather))"
      ],
      "execution_count": 56,
      "outputs": [
        {
          "output_type": "stream",
          "text": [
            "我在takao，天氣money\n"
          ],
          "name": "stdout"
        }
      ]
    },
    {
      "cell_type": "code",
      "metadata": {
        "id": "uNdOqmMlEVeA",
        "colab_type": "code",
        "colab": {
          "base_uri": "https://localhost:8080/",
          "height": 34
        },
        "outputId": "0bcba8c3-e327-4d30-bfe2-9aa14952e051"
      },
      "source": [
        "# 文字的 + & *\n",
        "#設定為文字 \" OR ' 之後使用+ 則使文字疊加\n",
        "print(\"我好\"+\"帥\")"
      ],
      "execution_count": 57,
      "outputs": [
        {
          "output_type": "stream",
          "text": [
            "我好帥\n"
          ],
          "name": "stdout"
        }
      ]
    },
    {
      "cell_type": "code",
      "metadata": {
        "id": "lLscxLOSEtCQ",
        "colab_type": "code",
        "colab": {
          "base_uri": "https://localhost:8080/",
          "height": 34
        },
        "outputId": "59df968b-f106-479a-d6fa-1d4046a0e448"
      },
      "source": [
        "print(\"我在\"+place+\"天氣\"+weather)"
      ],
      "execution_count": 58,
      "outputs": [
        {
          "output_type": "stream",
          "text": [
            "我在takao天氣money\n"
          ],
          "name": "stdout"
        }
      ]
    },
    {
      "cell_type": "code",
      "metadata": {
        "id": "yuvzEz5vF4TQ",
        "colab_type": "code",
        "colab": {
          "base_uri": "https://localhost:8080/",
          "height": 51
        },
        "outputId": "ca4dce88-d63f-40ad-f0b8-0190ec498ba9"
      },
      "source": [
        "#布林\n",
        "print(True)\n",
        "print(False)\n",
        "\n"
      ],
      "execution_count": 59,
      "outputs": [
        {
          "output_type": "stream",
          "text": [
            "True\n",
            "False\n"
          ],
          "name": "stdout"
        }
      ]
    },
    {
      "cell_type": "code",
      "metadata": {
        "id": "XL1rNB3hGpJ4",
        "colab_type": "code",
        "colab": {
          "base_uri": "https://localhost:8080/",
          "height": 51
        },
        "outputId": "bf5d5210-20cb-4b70-bb3c-c91d4a3007a2"
      },
      "source": [
        "print(type(True))\n",
        "print(type(False))"
      ],
      "execution_count": 61,
      "outputs": [
        {
          "output_type": "stream",
          "text": [
            "<class 'bool'>\n",
            "<class 'bool'>\n"
          ],
          "name": "stdout"
        }
      ]
    },
    {
      "cell_type": "code",
      "metadata": {
        "id": "MzJQ9arhIEuY",
        "colab_type": "code",
        "colab": {
          "base_uri": "https://localhost:8080/",
          "height": 51
        },
        "outputId": "17916113-5c2a-4c30-f0a2-b06f747f1bba"
      },
      "source": [
        "print(87==63)\n",
        "print(8763!=8763)"
      ],
      "execution_count": 63,
      "outputs": [
        {
          "output_type": "stream",
          "text": [
            "False\n",
            "False\n"
          ],
          "name": "stdout"
        }
      ]
    },
    {
      "cell_type": "code",
      "metadata": {
        "id": "bZu_wN5CIgYY",
        "colab_type": "code",
        "colab": {
          "base_uri": "https://localhost:8080/",
          "height": 165
        },
        "outputId": "1271d0a5-55b7-40fa-e73b-8904b397f598"
      },
      "source": [
        "print(movie_rating >= 6)"
      ],
      "execution_count": 65,
      "outputs": [
        {
          "output_type": "error",
          "ename": "TypeError",
          "evalue": "ignored",
          "traceback": [
            "\u001b[0;31m---------------------------------------------------------------------------\u001b[0m",
            "\u001b[0;31mTypeError\u001b[0m                                 Traceback (most recent call last)",
            "\u001b[0;32m<ipython-input-65-c2a5853447d8>\u001b[0m in \u001b[0;36m<module>\u001b[0;34m()\u001b[0m\n\u001b[0;32m----> 1\u001b[0;31m \u001b[0mprint\u001b[0m\u001b[0;34m(\u001b[0m\u001b[0mmovie_rating\u001b[0m \u001b[0;34m>=\u001b[0m \u001b[0;36m6\u001b[0m\u001b[0;34m)\u001b[0m\u001b[0;34m\u001b[0m\u001b[0;34m\u001b[0m\u001b[0m\n\u001b[0m",
            "\u001b[0;31mTypeError\u001b[0m: '>=' not supported between instances of 'str' and 'int'"
          ]
        }
      ]
    },
    {
      "cell_type": "code",
      "metadata": {
        "id": "bnlO1ZfVIsCQ",
        "colab_type": "code",
        "colab": {
          "base_uri": "https://localhost:8080/",
          "height": 34
        },
        "outputId": "1c6c6f02-b3be-42a1-ab3a-f5fcaadc13d7"
      },
      "source": [
        "id_last = 8\n",
        "print(id_last%2== 1)\n",
        "#判斷是否為奇數\n",
        "#ANS 語法使用/2餘數是否為1\n"
      ],
      "execution_count": 72,
      "outputs": [
        {
          "output_type": "stream",
          "text": [
            "False\n"
          ],
          "name": "stdout"
        }
      ]
    },
    {
      "cell_type": "markdown",
      "metadata": {
        "id": "_fR3GLjl5DNn",
        "colab_type": "text"
      },
      "source": [
        ""
      ]
    }
  ]
}